{
 "cells": [
  {
   "cell_type": "code",
   "execution_count": 66,
   "metadata": {},
   "outputs": [
    {
     "name": "stdout",
     "output_type": "stream",
     "text": [
      "(5, 7)\n",
      "(6, 7)\n",
      "(7, 7)\n",
      "(8, 7)\n",
      "(9, 7)\n",
      "(10, 7)\n",
      "(11, 7)\n",
      "(12, 7)\n",
      "(13, 7)\n",
      "(14, 7)\n",
      "(15, 7)\n",
      "(16, 7)\n",
      "(17, 7)\n",
      "(18, 7)\n",
      "(19, 7)\n",
      "(20, 7)\n",
      "(21, 7)\n",
      "(22, 7)\n",
      "(23, 7)\n",
      "(24, 7)\n",
      "(25, 7)\n",
      "(26, 7)\n",
      "(27, 7)\n",
      "(28, 7)\n",
      "(29, 7)\n",
      "(30, 7)\n",
      "(31, 7)\n",
      "(32, 7)\n",
      "(33, 7)\n",
      "(34, 7)\n",
      "(35, 7)\n",
      "(36, 7)\n",
      "(37, 7)\n",
      "(38, 7)\n",
      "(39, 7)\n",
      "(40, 7)\n",
      "(41, 7)\n",
      "(42, 7)\n",
      "(43, 7)\n",
      "(44, 7)\n",
      "(45, 7)\n",
      "(46, 7)\n",
      "(47, 7)\n",
      "(48, 7)\n",
      "(49, 7)\n",
      "(50, 7)\n",
      "(51, 7)\n",
      "(52, 7)\n",
      "(53, 7)\n",
      "(54, 7)\n",
      "(55, 7)\n",
      "(56, 7)\n",
      "(57, 7)\n",
      "(58, 7)\n",
      "[]\n"
     ]
    }
   ],
   "source": [
    "d = dict()\n",
    "list = []\n",
    "keys = []\n",
    "coor = []\n",
    "with open (\"test.txt\",\"r\") as f:\n",
    "    for y,line in enumerate(f):       \n",
    "        for x,arg in enumerate(line):\n",
    "             c+=1\n",
    "             if arg == \"1\":\n",
    "                print((x,y))\n",
    "                coor.append((x,y))\n",
    "\n",
    "\n",
    "                \n",
    "for i,(x,y) in enumerate(coor[:-1]):\n",
    "    current = coor[i]\n",
    "    next = coor[i+1]\n",
    "    if current[0] == next[0] or current[0] == next[0] + 1 or current[0] == next[0] -1:\n",
    "         pass\n",
    "    else:\n",
    "         keys.append(coor[0])\n",
    "         keys.append(coor[i])\n",
    "         keys.append(coor[i+1])\n",
    "         keys.append(coor[len(coor) -1])\n",
    "         break \n",
    "print(keys)            \n",
    "          \n",
    "        "
   ]
  },
  {
   "cell_type": "code",
   "execution_count": 64,
   "metadata": {},
   "outputs": [
    {
     "name": "stdout",
     "output_type": "stream",
     "text": [
      "2\n",
      "4\n",
      "6\n"
     ]
    }
   ],
   "source": [
    "rows = [(1, 2), (3, 4), (5, 6)]\n",
    "for x in rows:\n",
    "    print(x[1])\n",
    "\n",
    "\n"
   ]
  },
  {
   "cell_type": "code",
   "execution_count": null,
   "metadata": {},
   "outputs": [],
   "source": []
  }
 ],
 "metadata": {
  "kernelspec": {
   "display_name": "Python 3",
   "language": "python",
   "name": "python3"
  },
  "language_info": {
   "codemirror_mode": {
    "name": "ipython",
    "version": 3
   },
   "file_extension": ".py",
   "mimetype": "text/x-python",
   "name": "python",
   "nbconvert_exporter": "python",
   "pygments_lexer": "ipython3",
   "version": "3.7.4"
  }
 },
 "nbformat": 4,
 "nbformat_minor": 2
}
