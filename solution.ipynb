{
 "cells": [
  {
   "cell_type": "code",
   "execution_count": 81,
   "metadata": {},
   "outputs": [
    {
     "name": "stdout",
     "output_type": "stream",
     "text": [
      "[(5, 0), (4, 1), (3, 2), (1, 3), (2, 4)]\n",
      "[(5, 0), (3, 2), (1, 3), (2, 4)]\n"
     ]
    }
   ],
   "source": [
    "d = dict()\n",
    "list = []\n",
    "keys = []\n",
    "coor = []\n",
    "with open (\"test.txt\",\"r\") as f:\n",
    "    for y,line in enumerate(f):       \n",
    "        for x,arg in enumerate(line):\n",
    "             c+=1\n",
    "             if arg == \"1\":\n",
    "                #print((x,y))\n",
    "                coor.append((x,y))\n",
    "\n",
    "print(coor)\n",
    "                \n",
    "for i in range(len(coor) -1):\n",
    "    current = coor[i]\n",
    "    next = coor[i+1]\n",
    "    if current[0] == next [0] or current[0] == next[0] + 1 or current[0] == next[0] -1:\n",
    "         pass\n",
    "    else:\n",
    "         keys.append(coor[0])\n",
    "         keys.append(coor[i])\n",
    "         keys.append(coor[i+1])\n",
    "         keys.append(coor[len(coor) -1])\n",
    "         break   \n",
    "    if i == len(coor) - 2:\n",
    "         keys.append(coor[0]) \n",
    "         keys.append(coor[len(coor) -1])        \n",
    "print(keys)            \n",
    "          \n",
    "        "
   ]
  },
  {
   "cell_type": "code",
   "execution_count": 80,
   "metadata": {},
   "outputs": [
    {
     "name": "stdout",
     "output_type": "stream",
     "text": [
      "2\n",
      "4\n",
      "6\n"
     ]
    }
   ],
   "source": [
    "rows = [(1, 2), (3, 4), (5, 6)]\n",
    "for x in rows:\n",
    "    print(x[1])\n",
    "\n",
    "\n"
   ]
  },
  {
   "cell_type": "code",
   "execution_count": null,
   "metadata": {},
   "outputs": [],
   "source": []
  },
  {
   "cell_type": "code",
   "execution_count": null,
   "metadata": {},
   "outputs": [],
   "source": []
  }
 ],
 "metadata": {
  "kernelspec": {
   "display_name": "Python 3",
   "language": "python",
   "name": "python3"
  },
  "language_info": {
   "codemirror_mode": {
    "name": "ipython",
    "version": 3
   },
   "file_extension": ".py",
   "mimetype": "text/x-python",
   "name": "python",
   "nbconvert_exporter": "python",
   "pygments_lexer": "ipython3",
   "version": "3.7.4"
  }
 },
 "nbformat": 4,
 "nbformat_minor": 2
}
