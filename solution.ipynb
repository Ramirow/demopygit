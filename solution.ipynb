{
 "cells": [
  {
   "cell_type": "code",
   "execution_count": 244,
   "metadata": {},
   "outputs": [
    {
     "name": "stdout",
     "output_type": "stream",
     "text": [
      "(5, 0)(3, 2)(1, 3)(2, 4)\n"
     ]
    }
   ],
   "source": [
    "d = dict()\n",
    "list = []\n",
    "keys = []\n",
    "coor = []\n",
    "with open (\"test.txt\",\"r\") as f:\n",
    "    for y,line in enumerate(f):       \n",
    "        for x,arg in enumerate(line):\n",
    "             if arg == \"1\":\n",
    "                #print((x,y))\n",
    "                coor.append((x,y))\n",
    "#print(\"COOR : \",coor)\n",
    "def find_two_lines(list):\n",
    "        line1 = []\n",
    "        line2 = []\n",
    "        result = []\n",
    "        for i in range(len(list) -1):\n",
    "                 current = list[i]\n",
    "                 next = list[i+1]\n",
    "                 x = current[0]\n",
    "                 xx = next[0]\n",
    "                 y =  current[1]\n",
    "                 yy = next[1]\n",
    "                 if  (x == xx or x == xx + 1 or x == xx -1) and (y == yy or y == yy - 1):\n",
    "                       line1.append(current)\n",
    "                 else:\n",
    "                           a, b = list.index(current), list.index(next)\n",
    "                           list[b], list[a] = list[a], list[b]\n",
    "                 if i == len(list) - 2:\n",
    "                           line1.append(list[i+1])\n",
    "        line2 = [ item for item in list if item not in line1 ] \n",
    "        #print(list)\n",
    "        #print(\"LINE 1 :\",line1)\n",
    "        #print(\"LINE 2 :\",line2)\n",
    "        if (len(line1) > 1 and len(line2) > 1):\n",
    "                result =  str(line1[0]) + str(line1[len(line1) - 1]) +  str(line2[0]) + str(line2[len(line2)-1])\n",
    "        elif (len(line1) > 1):\n",
    "                result =  str(line1[0]) + str(line1[len(line1) - 1]) \n",
    "        elif(len(line2) == 1 and len(line1) == 0):\n",
    "                result =  str(line2[0])\n",
    "        return result           \n",
    "          \n",
    "res =  find_two_lines(coor)  \n",
    "print(res)"
   ]
  },
  {
   "cell_type": "code",
   "execution_count": null,
   "metadata": {},
   "outputs": [],
   "source": []
  }
 ],
 "metadata": {
  "kernelspec": {
   "display_name": "Python 3",
   "language": "python",
   "name": "python3"
  },
  "language_info": {
   "codemirror_mode": {
    "name": "ipython",
    "version": 3
   },
   "file_extension": ".py",
   "mimetype": "text/x-python",
   "name": "python",
   "nbconvert_exporter": "python",
   "pygments_lexer": "ipython3",
   "version": "3.7.4"
  }
 },
 "nbformat": 4,
 "nbformat_minor": 2
}
