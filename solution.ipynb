{
 "cells": [
  {
   "cell_type": "code",
   "execution_count": 230,
   "metadata": {},
   "outputs": [
    {
     "name": "stdout",
     "output_type": "stream",
     "text": [
      "COOR :  [(40, 0), (41, 0), (34, 1), (35, 1), (36, 1), (37, 1), (38, 1), (39, 1), (28, 2), (29, 2), (30, 2), (31, 2), (32, 2), (33, 2), (22, 3), (23, 3), (24, 3), (25, 3), (26, 3), (27, 3), (16, 4), (17, 4), (18, 4), (19, 4), (20, 4), (21, 4), (10, 5), (11, 5), (12, 5), (13, 5), (14, 5), (15, 5), (4, 6), (5, 6), (6, 6), (7, 6), (8, 6), (9, 6), (0, 7), (1, 7), (2, 7), (3, 7)]\n",
      "------------------------------------------------------------------------\n",
      "[(40, 0), (34, 1), (35, 1), (36, 1), (37, 1), (38, 1), (39, 1), (28, 2), (29, 2), (30, 2), (31, 2), (32, 2), (33, 2), (22, 3), (23, 3), (24, 3), (25, 3), (26, 3), (27, 3), (16, 4), (17, 4), (18, 4), (19, 4), (20, 4), (21, 4), (10, 5), (11, 5), (12, 5), (13, 5), (14, 5), (15, 5), (4, 6), (5, 6), (6, 6), (7, 6), (8, 6), (9, 6), (0, 7), (1, 7), (2, 7), (3, 7), (41, 0)]\n",
      "-------------------------------------------------------------------------\n",
      "LINE 1 : [(40, 0), (41, 0)]\n",
      "-------------------------------------------------------------------------\n",
      "LINE 2 : [(34, 1), (35, 1), (36, 1), (37, 1), (38, 1), (39, 1), (28, 2), (29, 2), (30, 2), (31, 2), (32, 2), (33, 2), (22, 3), (23, 3), (24, 3), (25, 3), (26, 3), (27, 3), (16, 4), (17, 4), (18, 4), (19, 4), (20, 4), (21, 4), (10, 5), (11, 5), (12, 5), (13, 5), (14, 5), (15, 5), (4, 6), (5, 6), (6, 6), (7, 6), (8, 6), (9, 6), (0, 7), (1, 7), (2, 7), (3, 7)]\n",
      "------------------------------------------------------------------------\n",
      "(40, 0)(41, 0)(34, 1)(3, 7)\n"
     ]
    }
   ],
   "source": [
    "d = dict()\n",
    "list = []\n",
    "keys = []\n",
    "coor = []\n",
    "with open (\"test.txt\",\"r\") as f:\n",
    "    for y,line in enumerate(f):       \n",
    "        for x,arg in enumerate(line):\n",
    "             if arg == \"1\":\n",
    "                #print((x,y))\n",
    "                coor.append((x,y))\n",
    "print(\"COOR : \",coor)\n",
    "print(\"------------------------------------------------------------------------\")\n",
    "def find_two_lines(list):\n",
    "        line1 = []\n",
    "        line2 = []\n",
    "        for i in range(len(list) -1):\n",
    "                 current = list[i]\n",
    "                 next = list[i+1]\n",
    "                 x = current[0]\n",
    "                 xx = next[0]\n",
    "                 y =  current[1]\n",
    "                 yy = next[1]\n",
    "                 if  (x == xx or x == xx + 1 or x == xx -1) and (y == yy or y == yy - 1):\n",
    "                       line1.append(current)\n",
    "                 else:\n",
    "                           a, b = list.index(current), list.index(next)\n",
    "                           list[b], list[a] = list[a], list[b]\n",
    "                 if i == len(list) - 2:\n",
    "                           line1.append(list[i+1])\n",
    "        line2 = [ item for item in list if item not in line1 ] \n",
    "        print(list)\n",
    "        print(\"-------------------------------------------------------------------------\")\n",
    "        print(\"LINE 1 :\",line1)\n",
    "        print(\"-------------------------------------------------------------------------\")\n",
    "        print(\"LINE 2 :\",line2)\n",
    "        print(\"------------------------------------------------------------------------\")\n",
    "        if (len(line1) > 1 and len(line2) > 1):\n",
    "                result =  str(line1[0]) + str(line1[len(line1) - 1]) +  str(line2[0]) + str(line2[len(line2)-1])\n",
    "        elif (len(line1) > 1):\n",
    "                result =  str(line1[0]) + str(line1[len(line1) - 1])    \n",
    "        return result           \n",
    "          \n",
    "res =  find_two_lines(coor)  \n",
    "print(res)"
   ]
  },
  {
   "cell_type": "code",
   "execution_count": 166,
   "metadata": {},
   "outputs": [],
   "source": []
  },
  {
   "cell_type": "code",
   "execution_count": 208,
   "metadata": {},
   "outputs": [
    {
     "name": "stdout",
     "output_type": "stream",
     "text": [
      "[(1, 2), (2, 3), (3, 5)]\n",
      "[(5, 6), (6, 7)]\n",
      "(1, 2)(3, 5)(5, 6)(6, 7)\n"
     ]
    }
   ],
   "source": []
  },
  {
   "cell_type": "code",
   "execution_count": 171,
   "metadata": {},
   "outputs": [
    {
     "name": "stdout",
     "output_type": "stream",
     "text": [
      "['newsletter']\n"
     ]
    }
   ],
   "source": []
  },
  {
   "cell_type": "code",
   "execution_count": 204,
   "metadata": {},
   "outputs": [
    {
     "name": "stdout",
     "output_type": "stream",
     "text": [
      "(1, 2)(3, 4)\n"
     ]
    }
   ],
   "source": []
  },
  {
   "cell_type": "code",
   "execution_count": null,
   "metadata": {},
   "outputs": [],
   "source": []
  }
 ],
 "metadata": {
  "kernelspec": {
   "display_name": "Python 3",
   "language": "python",
   "name": "python3"
  },
  "language_info": {
   "codemirror_mode": {
    "name": "ipython",
    "version": 3
   },
   "file_extension": ".py",
   "mimetype": "text/x-python",
   "name": "python",
   "nbconvert_exporter": "python",
   "pygments_lexer": "ipython3",
   "version": "3.7.4"
  }
 },
 "nbformat": 4,
 "nbformat_minor": 2
}
